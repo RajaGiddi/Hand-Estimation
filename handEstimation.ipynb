{
 "cells": [
  {
   "cell_type": "markdown",
   "metadata": {},
   "source": [
    "Installing Dependencies"
   ]
  },
  {
   "cell_type": "code",
   "execution_count": 3,
   "metadata": {},
   "outputs": [
    {
     "name": "stdout",
     "output_type": "stream",
     "text": [
      "Requirement already satisfied: mediapipe in c:\\users\\giddi\\anaconda3\\lib\\site-packages (0.8.10)\n",
      "Collecting opencv-python\n",
      "  Downloading opencv_python-4.6.0.66-cp36-abi3-win_amd64.whl (35.6 MB)\n",
      "Requirement already satisfied: opencv-contrib-python in c:\\users\\giddi\\anaconda3\\lib\\site-packages (from mediapipe) (4.6.0.66)\n",
      "Requirement already satisfied: matplotlib in c:\\users\\giddi\\anaconda3\\lib\\site-packages (from mediapipe) (3.3.4)\n",
      "Requirement already satisfied: protobuf>=3.11.4 in c:\\users\\giddi\\anaconda3\\lib\\site-packages (from mediapipe) (3.17.2)\n",
      "Requirement already satisfied: absl-py in c:\\users\\giddi\\anaconda3\\lib\\site-packages (from mediapipe) (1.0.0)\n",
      "Requirement already satisfied: attrs>=19.1.0 in c:\\users\\giddi\\anaconda3\\lib\\site-packages (from mediapipe) (20.3.0)\n",
      "Requirement already satisfied: numpy in c:\\users\\giddi\\anaconda3\\lib\\site-packages (from mediapipe) (1.20.1)\n",
      "Requirement already satisfied: six>=1.9 in c:\\users\\giddi\\anaconda3\\lib\\site-packages (from protobuf>=3.11.4->mediapipe) (1.15.0)\n",
      "Requirement already satisfied: pillow>=6.2.0 in c:\\users\\giddi\\anaconda3\\lib\\site-packages (from matplotlib->mediapipe) (8.2.0)\n",
      "Requirement already satisfied: kiwisolver>=1.0.1 in c:\\users\\giddi\\anaconda3\\lib\\site-packages (from matplotlib->mediapipe) (1.3.1)\n",
      "Requirement already satisfied: cycler>=0.10 in c:\\users\\giddi\\anaconda3\\lib\\site-packages (from matplotlib->mediapipe) (0.10.0)\n",
      "Requirement already satisfied: pyparsing!=2.0.4,!=2.1.2,!=2.1.6,>=2.0.3 in c:\\users\\giddi\\anaconda3\\lib\\site-packages (from matplotlib->mediapipe) (2.4.7)\n",
      "Requirement already satisfied: python-dateutil>=2.1 in c:\\users\\giddi\\anaconda3\\lib\\site-packages (from matplotlib->mediapipe) (2.8.1)\n",
      "Installing collected packages: opencv-python\n",
      "Successfully installed opencv-python-4.6.0.66\n"
     ]
    }
   ],
   "source": [
    "!pip install mediapipe opencv-python"
   ]
  },
  {
   "cell_type": "code",
   "execution_count": 4,
   "metadata": {},
   "outputs": [],
   "source": [
    "# Importing necessary Modules\n",
    "import cv2\n",
    "import mediapipe as mp\n",
    "import numpy as np\n",
    "import os\n",
    "import uuid"
   ]
  },
  {
   "cell_type": "code",
   "execution_count": 5,
   "metadata": {},
   "outputs": [],
   "source": [
    "#Get the hands model and rendering utility\n",
    "mpDrawing = mp.solutions.drawing_utils\n",
    "mpHandsModel = mp.solutions.hands"
   ]
  },
  {
   "cell_type": "code",
   "execution_count": 6,
   "metadata": {},
   "outputs": [
    {
     "ename": "error",
     "evalue": "OpenCV(4.6.0) D:\\a\\opencv-python\\opencv-python\\opencv\\modules\\imgproc\\src\\color.cpp:182: error: (-215:Assertion failed) !_src.empty() in function 'cv::cvtColor'\n",
     "output_type": "error",
     "traceback": [
      "\u001b[1;31m---------------------------------------------------------------------------\u001b[0m",
      "\u001b[1;31merror\u001b[0m                                     Traceback (most recent call last)",
      "\u001b[1;32m<ipython-input-6-ca05b646fe12>\u001b[0m in \u001b[0;36m<module>\u001b[1;34m\u001b[0m\n\u001b[0;32m      8\u001b[0m \u001b[1;33m\u001b[0m\u001b[0m\n\u001b[0;32m      9\u001b[0m         \u001b[1;31m#BGR to RGB to allow mediapipe to accept the frames (mediapipe requires frames in RGB)\u001b[0m\u001b[1;33m\u001b[0m\u001b[1;33m\u001b[0m\u001b[1;33m\u001b[0m\u001b[0m\n\u001b[1;32m---> 10\u001b[1;33m         \u001b[0mimg\u001b[0m \u001b[1;33m=\u001b[0m \u001b[0mcv2\u001b[0m\u001b[1;33m.\u001b[0m\u001b[0mcvtColor\u001b[0m\u001b[1;33m(\u001b[0m\u001b[0mframe\u001b[0m\u001b[1;33m,\u001b[0m \u001b[0mcv2\u001b[0m\u001b[1;33m.\u001b[0m\u001b[0mCOLOR_BGR2RGB\u001b[0m\u001b[1;33m)\u001b[0m\u001b[1;33m\u001b[0m\u001b[1;33m\u001b[0m\u001b[0m\n\u001b[0m\u001b[0;32m     11\u001b[0m \u001b[1;33m\u001b[0m\u001b[0m\n\u001b[0;32m     12\u001b[0m         \u001b[1;31m#Set it to False so that we cannot write on the image and make copies of it\u001b[0m\u001b[1;33m\u001b[0m\u001b[1;33m\u001b[0m\u001b[1;33m\u001b[0m\u001b[0m\n",
      "\u001b[1;31merror\u001b[0m: OpenCV(4.6.0) D:\\a\\opencv-python\\opencv-python\\opencv\\modules\\imgproc\\src\\color.cpp:182: error: (-215:Assertion failed) !_src.empty() in function 'cv::cvtColor'\n"
     ]
    }
   ],
   "source": [
    "#Connecting to the camera using OpenCV\n",
    "ss = cv2.VideoCapture(1)   #0 = back camera, 1 = front camera ; play around on other devices\n",
    "\n",
    "#Connecting to the camera using OpenCV\n",
    "with mpHandsModel.Hands(min_detection_confidence=0.8, min_tracking_confidence=0.65, max_num_hands=10) as hands:\n",
    "    while ss.isOpened():   #While connected to the webcam\n",
    "        ret, frame = ss.read() #reading each frame\n",
    "        \n",
    "        #BGR to RGB to allow mediapipe to accept the frames (mediapipe requires frames in RGB)\n",
    "        img = cv2.cvtColor(frame, cv2.COLOR_BGR2RGB)\n",
    "        \n",
    "        #Set it to False so that we cannot write on the image and make copies of it\n",
    "        img.flags.writeable = False\n",
    "        \n",
    "        #Detections\n",
    "        results = hands.process(img)\n",
    "        \n",
    "        #Set back 2 True to allow us to render/draw on the img\n",
    "        img.flags.writeable = True\n",
    "        \n",
    "        #Recolor\n",
    "        img = cv2.cvtColor(img, cv2.COLOR_RGB2BGR)\n",
    "        \n",
    "        #Just printing the detections, but as a string/array-tuple???\n",
    "        print(results)\n",
    "        allLndmrks = results.multi_hand_landmarks\n",
    "        \n",
    "        #Rendering the results\n",
    "        if allLndmrks:\n",
    "            for n, hand in enumerate(allLndmrks):   #Checking to see if we have a frame to use from the last frame detected + enumerate checks for number of iterations\n",
    "                mpDrawing.draw_landmarks(img, hand, mpHandsModel.HAND_CONNECTIONS) #Tells what parts are essentially connected\n",
    "        \n",
    "        cv2.imshow(\"Hand Tracking\", img)  #Rendering the image\n",
    "\n",
    "        if cv2.waitKey(10) & 0xFF == ord('q'):  #If I hit 'q', it closes\n",
    "            break\n",
    "ss.release()\n",
    "cv2.destroyAllWindows()"
   ]
  },
  {
   "cell_type": "code",
   "execution_count": null,
   "metadata": {},
   "outputs": [],
   "source": [
    "#Prints the landmarks as an nested array-tuple\n",
    "results.multi_hand_landmarks"
   ]
  },
  {
   "cell_type": "code",
   "execution_count": null,
   "metadata": {},
   "outputs": [
    {
     "name": "stdout",
     "output_type": "stream",
     "text": [
      "Collecting cvzone\n",
      "  Downloading cvzone-1.5.6.tar.gz (12 kB)\n",
      "Requirement already satisfied: opencv-python in c:\\users\\giddi\\anaconda3\\lib\\site-packages (from cvzone) (4.5.5.64)\n",
      "Requirement already satisfied: numpy in c:\\users\\giddi\\anaconda3\\lib\\site-packages (from cvzone) (1.20.1)\n",
      "Building wheels for collected packages: cvzone\n",
      "  Building wheel for cvzone (setup.py): started\n",
      "  Building wheel for cvzone (setup.py): finished with status 'done'\n",
      "  Created wheel for cvzone: filename=cvzone-1.5.6-py3-none-any.whl size=18766 sha256=5ad6dbdc4b616335ccca9f01aa0344d3d1cca9494459e1c4f6895f9d5d9817b9\n",
      "  Stored in directory: c:\\users\\giddi\\appdata\\local\\pip\\cache\\wheels\\67\\60\\9a\\e5060027d8eae2c01ba872fdbc094a6fe3fee15794ee3dc709\n",
      "Successfully built cvzone\n",
      "Installing collected packages: cvzone\n",
      "Successfully installed cvzone-1.5.6\n",
      "Note: you may need to restart the kernel to use updated packages.\n"
     ]
    }
   ],
   "source": [
    "pip install cvzone"
   ]
  },
  {
   "cell_type": "code",
   "execution_count": null,
   "metadata": {},
   "outputs": [],
   "source": [
    "import cvzone"
   ]
  },
  {
   "cell_type": "code",
   "execution_count": null,
   "metadata": {},
   "outputs": [],
   "source": []
  }
 ],
 "metadata": {
  "kernelspec": {
   "display_name": "Python 3",
   "language": "python",
   "name": "python3"
  },
  "language_info": {
   "codemirror_mode": {
    "name": "ipython",
    "version": 3
   },
   "file_extension": ".py",
   "mimetype": "text/x-python",
   "name": "python",
   "nbconvert_exporter": "python",
   "pygments_lexer": "ipython3",
   "version": "3.8.8"
  },
  "vscode": {
   "interpreter": {
    "hash": "c87e901badf2dd5cd991c1db95f13ccdaa2ba2ee613fa4ccee8773485b5e64d1"
   }
  }
 },
 "nbformat": 4,
 "nbformat_minor": 2
}
